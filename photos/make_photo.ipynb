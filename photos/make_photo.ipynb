{
 "cells": [
  {
   "cell_type": "code",
   "execution_count": 17,
   "metadata": {},
   "outputs": [
    {
     "name": "stdout",
     "output_type": "stream",
     "text": [
      "<PIL.Image.Image image mode=RGBA size=468x466 at 0x252F131E850>\n"
     ]
    }
   ],
   "source": [
    "from PIL import Image, ImageDraw\n",
    "\n",
    "# Load the image\n",
    "image_path = 'square_2.jpg'\n",
    "image = Image.open(image_path).convert(\"RGBA\")\n",
    "\n",
    "# Convert the image to black and white\n",
    "bw_image = image.convert(\"L\").convert(\"RGBA\")\n",
    "\n",
    "print(image)\n",
    "\n",
    "\n"
   ]
  },
  {
   "cell_type": "code",
   "execution_count": 18,
   "metadata": {},
   "outputs": [
    {
     "data": {
      "text/plain": [
       "'circle_2.png'"
      ]
     },
     "execution_count": 18,
     "metadata": {},
     "output_type": "execute_result"
    }
   ],
   "source": [
    "# Create a mask for the circle\n",
    "mask = Image.new(\"L\", image.size, 0)\n",
    "draw = ImageDraw.Draw(mask)\n",
    "draw.ellipse((0, 0, 468, 468), fill=255)\n",
    "\n",
    "# Apply the circle mask to the black and white image to create the circle area\n",
    "circle_area = Image.composite(bw_image, Image.new(\"RGBA\", image.size), mask)\n",
    "\n",
    "# Create a new image with transparent background\n",
    "transparent_background = Image.new(\"RGBA\", image.size, (0, 0, 0, 0))\n",
    "\n",
    "# Paste the black and white circle area onto the transparent background\n",
    "transparent_background.paste(circle_area, (0, 0), circle_area)\n",
    "\n",
    "# Save the result\n",
    "output_path_corrected = 'circle_2.png'\n",
    "transparent_background.save(output_path_corrected)\n",
    "\n",
    "output_path_corrected"
   ]
  },
  {
   "cell_type": "code",
   "execution_count": 20,
   "metadata": {},
   "outputs": [
    {
     "data": {
      "text/plain": [
       "'c:\\\\Users\\\\jsenn2\\\\Desktop\\\\VIRTUAL\\\\github\\\\jsenn2.github.io\\\\photos'"
      ]
     },
     "execution_count": 20,
     "metadata": {},
     "output_type": "execute_result"
    }
   ],
   "source": [
    "import os \n",
    "\n",
    "os.getcwd()\n"
   ]
  }
 ],
 "metadata": {
  "kernelspec": {
   "display_name": "env",
   "language": "python",
   "name": "python3"
  },
  "language_info": {
   "codemirror_mode": {
    "name": "ipython",
    "version": 3
   },
   "file_extension": ".py",
   "mimetype": "text/x-python",
   "name": "python",
   "nbconvert_exporter": "python",
   "pygments_lexer": "ipython3",
   "version": "3.11.1"
  }
 },
 "nbformat": 4,
 "nbformat_minor": 2
}
